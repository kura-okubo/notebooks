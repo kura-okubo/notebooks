{
 "cells": [
  {
   "cell_type": "markdown",
   "id": "99ec43ba",
   "metadata": {},
   "source": [
    "# Installation and minimal working example of dsmpy\n",
    "\n",
    "This notebook aims to install [dsmpy](https://github.com/afeborgeaud/dsmpy) on the binder and to run the minimal working example of computing waveforms."
   ]
  },
  {
   "cell_type": "markdown",
   "id": "38806d7e",
   "metadata": {},
   "source": [
    "## NOTE on installation\n",
    "- It is easier to update the conda enviroment of `notebook` rather than newly activating the `dsm` in jupyter notebook.\n",
    "- the version of obspy should be 1.3.0; otherwise it causes the error associated with 'split'\n",
    "- We install gfortran using conda as well. \n",
    "\n",
    "## How to run this notebook\n",
    "**Please run cell by cell.** `Run All Cells` will be stuck when compiling the source. Restart kernel if it's stuck."
   ]
  },
  {
   "cell_type": "code",
   "execution_count": null,
   "id": "63c4053b",
   "metadata": {},
   "outputs": [],
   "source": [
    "# download dsmpy package from github and dependencies\n",
    "%cd ~/dsmpy_launch\n",
    "!git clone https://github.com/afeborgeaud/dsmpy\n",
    "!conda install --yes --prune --prefix /srv/conda/envs/notebook conda-build python=3.9 pytest numpy mpi4py matplotlib pandas conda-forge::obspy=1.3.0 conda-forge::geographiclib cartopy conda-forge::gfortran    "
   ]
  },
  {
   "cell_type": "markdown",
   "id": "a765eb33",
   "metadata": {},
   "source": [
    "**NOTE:** If you want to make a new enviroment when running this notebook in local machine, you could change the prefix from the enviroment `notebook`."
   ]
  },
  {
   "cell_type": "markdown",
   "id": "7a1efe09",
   "metadata": {},
   "source": [
    "### Compile the source"
   ]
  },
  {
   "cell_type": "code",
   "execution_count": null,
   "id": "f58283de",
   "metadata": {},
   "outputs": [],
   "source": [
    "%cd ~/dsmpy_launch/dsmpy\n",
    "%pip install --no-build-isolation --no-deps -e . --prefix=/srv/conda/envs/notebook"
   ]
  },
  {
   "cell_type": "code",
   "execution_count": null,
   "id": "8bae6bab-aebc-4808-a45a-c23df9801a71",
   "metadata": {},
   "outputs": [],
   "source": [
    "# conduct pytest\n",
    "!pytest"
   ]
  },
  {
   "cell_type": "markdown",
   "id": "7e8e8c08",
   "metadata": {},
   "source": [
    "**WARNING!**\n",
    "Here we found the error of test with `test_seismicmodel.py`. The true values of `waveform_grads_0000` given in the test script is not identical to what we computed during this test. We may need to check the computation of `waveform_grads`."
   ]
  },
  {
   "cell_type": "code",
   "execution_count": null,
   "id": "57163772-07cc-4245-bdfc-a974177ae177",
   "metadata": {},
   "outputs": [],
   "source": [
    "# back to the working directory\n",
    "%cd ~/dsmpy_launch\n",
    "!mkdir demo\n",
    "%cd demo"
   ]
  },
  {
   "cell_type": "markdown",
   "id": "159fec94",
   "metadata": {},
   "source": [
    "## Minimal working example\n",
    "### Running dsmpy from a python script"
   ]
  },
  {
   "cell_type": "code",
   "execution_count": null,
   "id": "820a2218-e16f-4e2e-b7b5-45d22a079239",
   "metadata": {},
   "outputs": [],
   "source": [
    "import os\n",
    "import matplotlib.pyplot as plt\n",
    "\n",
    "from dsmpy import dsm, seismicmodel\n",
    "from dsmpy.event import Event\n",
    "from dsmpy.station import Station\n",
    "from dsmpy.utils.cmtcatalog import read_catalog\n",
    "\n",
    "root_dir = f'{os.path.expanduser(\"~\")}/dsmpy_launch/demo' # absolute path of home directory"
   ]
  },
  {
   "cell_type": "code",
   "execution_count": null,
   "id": "f2ba2ff0-6ffd-4f98-949f-c03ff26db5ec",
   "metadata": {},
   "outputs": [],
   "source": [
    "# load gcmt catalog\n",
    "catalog = read_catalog()\n",
    "# get event from catalog\n",
    "event = Event.event_from_catalog(\n",
    "    catalog, '200707211534A')\n",
    "# define station FCC\n",
    "stations = [\n",
    "    Station(\n",
    "        name='FCC', network='CN',\n",
    "        latitude=58.7592, longitude=-94.0884), \n",
    "    ]\n",
    "# load (anisotropic) PREM model\n",
    "seismic_model = seismicmodel.SeismicModel.prem()\n",
    "tlen = 3276.8 # duration of synthetics (s)\n",
    "nspc = 256 # number of points in frequency domain\n",
    "sampling_hz = 20 # sampling frequency for sythetics\n",
    "# create input parameters for pydsm\n",
    "input = dsm.PyDSMInput.input_from_arrays(\n",
    "    event, stations, seismic_model, tlen, nspc, sampling_hz)\n",
    "# compute synthetics in frequency domain calling DSM Fortran\n",
    "output = dsm.compute(input)\n",
    "output.to_time_domain() # perform inverse FFT\n",
    "output.filter(freq=0.04) # apply a 25 seconds low-pass filter\n",
    "us = output.us # synthetics. us.shape = (3,nr,tlen)\n",
    "ts = output.ts # time points [0, tlen]\n",
    "# brackets can be used to access component and station\n",
    "u_Z_FCC = output['Z', 'FCC_CN']\n",
    "# to plot a three-component record section, use\n",
    "output.plot()\n",
    "plt.show()"
   ]
  },
  {
   "cell_type": "code",
   "execution_count": null,
   "id": "03a05b9b",
   "metadata": {},
   "outputs": [],
   "source": [
    "# to write synthetics to SAC files, use\n",
    "output.write(root_path=root_dir, format='sac')"
   ]
  },
  {
   "cell_type": "markdown",
   "id": "eb738785",
   "metadata": {},
   "source": [
    "### Running dsmpy using a (Fortran) DSM input file."
   ]
  },
  {
   "cell_type": "code",
   "execution_count": null,
   "id": "b5557562-0648-4fdc-b8ac-248da6e6197f",
   "metadata": {},
   "outputs": [],
   "source": [
    "from dsmpy import dsm, rootdsm_sh\n",
    "parameter_file = rootdsm_sh + 'AK135_SH.inf'\n",
    "inputs = dsm.PyDSMInput.input_from_file(parameter_file, file_mode=2)\n",
    "outputs = dsm.compute(inputs, mode=2)\n",
    "outputs.to_time_domain()\n",
    "us = outputs.us    # us.shape = (3,nr,tlen)\n",
    "ts = outputs.ts    # len(ts) = tlen\n",
    "stations = outputs.stations        # len(stations) = nr\n",
    "components = outputs.components    # len(components) = 3"
   ]
  },
  {
   "cell_type": "code",
   "execution_count": null,
   "id": "5ce8d5e0-37d6-48be-a3c8-8a18ae8642ed",
   "metadata": {},
   "outputs": [],
   "source": [
    "outputs.plot()"
   ]
  },
  {
   "cell_type": "code",
   "execution_count": null,
   "id": "a29b19b8",
   "metadata": {},
   "outputs": [],
   "source": [
    "outputs.write(root_path=root_dir, format='sac')"
   ]
  }
 ],
 "metadata": {
  "kernelspec": {
   "display_name": "Python 3 (ipykernel)",
   "language": "python",
   "name": "python3"
  },
  "language_info": {
   "codemirror_mode": {
    "name": "ipython",
    "version": 3
   },
   "file_extension": ".py",
   "mimetype": "text/x-python",
   "name": "python",
   "nbconvert_exporter": "python",
   "pygments_lexer": "ipython3",
   "version": "3.7.12"
  }
 },
 "nbformat": 4,
 "nbformat_minor": 5
}
